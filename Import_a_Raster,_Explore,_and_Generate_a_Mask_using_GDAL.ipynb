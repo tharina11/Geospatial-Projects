{
  "nbformat": 4,
  "nbformat_minor": 0,
  "metadata": {
    "colab": {
      "provenance": [],
      "authorship_tag": "ABX9TyODwy8ByfOzsU2aStME2NYD",
      "include_colab_link": true
    },
    "kernelspec": {
      "name": "python3",
      "display_name": "Python 3"
    },
    "language_info": {
      "name": "python"
    }
  },
  "cells": [
    {
      "cell_type": "markdown",
      "metadata": {
        "id": "view-in-github",
        "colab_type": "text"
      },
      "source": [
        "<a href=\"https://colab.research.google.com/github/tharina11/Geospatial-Projects/blob/main/Import_a_Raster%2C_Explore%2C_and_Generate_a_Mask_using_GDAL.ipynb\" target=\"_parent\"><img src=\"https://colab.research.google.com/assets/colab-badge.svg\" alt=\"Open In Colab\"/></a>"
      ]
    },
    {
      "cell_type": "markdown",
      "source": [
        "###**Read and Write raster data with GDAL**\n",
        "\n",
        "In this code, we will read a raster file into an array using GDAL library. We will explore the spatial and pixel attributes of the raster file in depth. Then, we will write an array into a raster file.\n",
        "\n",
        "Several online sources were reffered to obtain the Python code and deeper knowledge on the concepts explored. The references are cited at the end of the code. The input image was downloaded form USGS [ScienceBase-Catalog](https://www.sciencebase.gov/catalog/item/543e6b86e4b0fd76af69cf4c) and cropped using QGIS.\n",
        "\n",
        "\n",
        "We will import a raster file using GDAL and convert it into an array, perform calculations on the array and write the calculation output as a Geotiff file.\n",
        "\n",
        "Read [GDAL website](https://gdal.org/) (navigate to Python) to learn more about each function used in the code below."
      ],
      "metadata": {
        "id": "c94CApzAB7bR"
      }
    },
    {
      "cell_type": "code",
      "execution_count": null,
      "metadata": {
        "id": "yPvboKCTBo81"
      },
      "outputs": [],
      "source": [
        "# Import libraries\n",
        "from osgeo import gdal\n",
        "import numpy as np\n",
        "import matplotlib.pyplot as plt\n"
      ]
    },
    {
      "cell_type": "code",
      "source": [
        "# Mount google drive and authenticate\n",
        "from google.colab import drive\n",
        "drive.mount('/content/drive/')"
      ],
      "metadata": {
        "colab": {
          "base_uri": "https://localhost:8080/"
        },
        "id": "mhWpY_OirzWH",
        "outputId": "574a7234-8213-400e-cd6d-856f6daabce1"
      },
      "execution_count": null,
      "outputs": [
        {
          "output_type": "stream",
          "name": "stdout",
          "text": [
            "Drive already mounted at /content/drive/; to attempt to forcibly remount, call drive.mount(\"/content/drive/\", force_remount=True).\n"
          ]
        }
      ]
    },
    {
      "cell_type": "code",
      "source": [
        "# import image into a dem(digital elevation model) object from google drive\n",
        "dem = gdal.Open('/content/drive/MyDrive/GDAL/Data/Raster_OR.tif')"
      ],
      "metadata": {
        "id": "STJsJJjMr0Gs"
      },
      "execution_count": null,
      "outputs": []
    },
    {
      "cell_type": "markdown",
      "source": [
        "The raster file used in this code is a digital elevation model. This is a 2D array which consists of pixels with the elevation values of a particular area on the earth surface."
      ],
      "metadata": {
        "id": "9qjDYr3qGPRa"
      }
    },
    {
      "cell_type": "code",
      "source": [
        "# Metadata of the input image\n",
        "metadata = dem.GetMetadata()\n",
        "metadata"
      ],
      "metadata": {
        "colab": {
          "base_uri": "https://localhost:8080/"
        },
        "id": "6mnlH5HXowJa",
        "outputId": "6d083156-31ab-4aed-bb79-77ec090df468"
      },
      "execution_count": null,
      "outputs": [
        {
          "output_type": "execute_result",
          "data": {
            "text/plain": [
              "{'AREA_OR_POINT': 'Area'}"
            ]
          },
          "metadata": {},
          "execution_count": 65
        }
      ]
    },
    {
      "cell_type": "code",
      "source": [
        "# Get geotransform of the input image\n",
        "geo_transform = dem.GetGeoTransform()\n",
        "geo_transform"
      ],
      "metadata": {
        "colab": {
          "base_uri": "https://localhost:8080/"
        },
        "id": "LlsLMWVIBuuQ",
        "outputId": "f7ab7592-b1d8-4156-d78b-14b402d33026"
      },
      "execution_count": null,
      "outputs": [
        {
          "output_type": "execute_result",
          "data": {
            "text/plain": [
              "(438535.0000224668, 1.0, 0.0, 4649329.000017767, 0.0, -1.0)"
            ]
          },
          "metadata": {},
          "execution_count": 66
        }
      ]
    },
    {
      "cell_type": "markdown",
      "source": [
        "[Geotransform](https://gdal.org/tutorials/geotransforms_tut.html) is an affine transformation from image coordinate space to the georeference corrdinate space. Geotransform consists of 6 parameters\n",
        "\n",
        "1. GT (0): x coordinate of upper left corner of the upper left pixel,\n",
        "2. GT (1): pixel width(W-E),\n",
        "3. GT (2): row rotation,\n",
        "4. GT (3): y coordinate of the upper left corner of the upper left pixel,\n",
        "5. GT (4): column rotation,\n",
        "6. GT (5): Pixel height (N-S) (negative for north -up images)"
      ],
      "metadata": {
        "id": "DC0TB56Ud3kH"
      }
    },
    {
      "cell_type": "code",
      "source": [
        "# Projection of the raster file\n",
        "dem_projection = dem.GetProjection()\n",
        "dem_projection"
      ],
      "metadata": {
        "colab": {
          "base_uri": "https://localhost:8080/",
          "height": 122
        },
        "id": "2cFzuuaTsksu",
        "outputId": "cbf1350f-af83-4bb0-f5bf-91fbafb7fa77"
      },
      "execution_count": null,
      "outputs": [
        {
          "output_type": "execute_result",
          "data": {
            "text/plain": [
              "'PROJCS[\"NAD83 / UTM zone 10N\",GEOGCS[\"NAD83\",DATUM[\"North_American_Datum_1983\",SPHEROID[\"GRS 1980\",6378137,298.257222101,AUTHORITY[\"EPSG\",\"7019\"]],AUTHORITY[\"EPSG\",\"6269\"]],PRIMEM[\"Greenwich\",0,AUTHORITY[\"EPSG\",\"8901\"]],UNIT[\"degree\",0.0174532925199433,AUTHORITY[\"EPSG\",\"9122\"]],AUTHORITY[\"EPSG\",\"4269\"]],PROJECTION[\"Transverse_Mercator\"],PARAMETER[\"latitude_of_origin\",0],PARAMETER[\"central_meridian\",-123],PARAMETER[\"scale_factor\",0.9996],PARAMETER[\"false_easting\",500000],PARAMETER[\"false_northing\",0],UNIT[\"metre\",1,AUTHORITY[\"EPSG\",\"9001\"]],AXIS[\"Easting\",EAST],AXIS[\"Northing\",NORTH],AUTHORITY[\"EPSG\",\"26910\"]]'"
            ],
            "application/vnd.google.colaboratory.intrinsic+json": {
              "type": "string"
            }
          },
          "metadata": {},
          "execution_count": 67
        }
      ]
    },
    {
      "cell_type": "markdown",
      "source": [
        "It is not possible to draw curved earth surface withoubt stretching and tearing it. [Projections](https://learn.arcgis.com/en/projects/choose-the-right-projection/) are calculations which makes it possible to draw the earth surface on a flat paper. \n",
        "Map projections apply the necessary distrotions in a systematic way that allows us to control where and how the distrortions happen. There is no projection that matches for the whole earth. Each projection distorts the earth surface preserving some geometic property/properties with expense of distorting other [properties](https://learn.arcgis.com/en/projects/choose-the-right-projection/#understand-projections).\n",
        "\n",
        "- Conformal projections: \n",
        " - preserves angle locally; shape of features appears true\n",
        " - cost: distort areas and distances\n",
        "\n",
        "- Equal area projections: \n",
        " - preserve area\n",
        " - cost: distort angles, so the shape of objects appear skewed\n",
        "\n",
        "- Equidistant projections:\n",
        " - preserve distances, only from certain points or along certain lines\n",
        "\n",
        "- Compromise projections: \n",
        " - Not perfectly correct, but not badly distorted\n",
        "\n",
        "There are more projection types. Selecting a projection for a project depends on the part of the world you map, scale, and the purpose of the map. "
      ],
      "metadata": {
        "id": "7dMoyY3tpVTD"
      }
    },
    {
      "cell_type": "code",
      "source": [
        "# Number of bands in the raster file\n",
        "dem.RasterCount"
      ],
      "metadata": {
        "colab": {
          "base_uri": "https://localhost:8080/"
        },
        "id": "gZU3sxAYsycK",
        "outputId": "0f3a39c1-52ca-47d9-b667-7dc79ae3e4a8"
      },
      "execution_count": null,
      "outputs": [
        {
          "output_type": "execute_result",
          "data": {
            "text/plain": [
              "1"
            ]
          },
          "metadata": {},
          "execution_count": 68
        }
      ]
    },
    {
      "cell_type": "markdown",
      "source": [
        "DEMs usually consists of one band (consists of elevation values). Other multipsectral satellite images consists of multiple bands that represents the energy values recorded from each region of the electromagnetic spectrum."
      ],
      "metadata": {
        "id": "E4ReZJ_4HDQC"
      }
    },
    {
      "cell_type": "code",
      "source": [
        "# GDAL object\n",
        "dem"
      ],
      "metadata": {
        "colab": {
          "base_uri": "https://localhost:8080/"
        },
        "id": "qLLeYMUSKM7x",
        "outputId": "74f1f387-d1c1-45ac-9c1b-b8ef383561ba"
      },
      "execution_count": null,
      "outputs": [
        {
          "output_type": "execute_result",
          "data": {
            "text/plain": [
              "<osgeo.gdal.Dataset; proxy of <Swig Object of type 'GDALDatasetShadow *' at 0x7f6c5f49a300> >"
            ]
          },
          "metadata": {},
          "execution_count": 69
        }
      ]
    },
    {
      "cell_type": "code",
      "source": [
        "# Type of the input data object\n",
        "type(dem)"
      ],
      "metadata": {
        "colab": {
          "base_uri": "https://localhost:8080/"
        },
        "id": "kyOhuVKAIbRQ",
        "outputId": "68c99eb1-4bcf-4c8b-ad8e-2699ebf97a76"
      },
      "execution_count": null,
      "outputs": [
        {
          "output_type": "execute_result",
          "data": {
            "text/plain": [
              "osgeo.gdal.Dataset"
            ]
          },
          "metadata": {},
          "execution_count": 70
        }
      ]
    },
    {
      "cell_type": "markdown",
      "source": [
        "The object 'dem' we created is a gdal dataset. A gdal dataset encapsulates one or more raster bands. In order to read the data in the dem band, we have to access the dem band. We will use the method below to read and assign that band to a variable called band."
      ],
      "metadata": {
        "id": "v8SVPDbAIf_z"
      }
    },
    {
      "cell_type": "code",
      "source": [
        "# Assign the raster values to an object\n",
        "band = dem.GetRasterBand(1)\n",
        "band"
      ],
      "metadata": {
        "colab": {
          "base_uri": "https://localhost:8080/"
        },
        "id": "NaJIF2ZNtEDL",
        "outputId": "6bc334db-7105-4671-c1c5-ef99c4202e8f"
      },
      "execution_count": null,
      "outputs": [
        {
          "output_type": "execute_result",
          "data": {
            "text/plain": [
              "<osgeo.gdal.Band; proxy of <Swig Object of type 'GDALRasterBandShadow *' at 0x7f6c9eaa5c30> >"
            ]
          },
          "metadata": {},
          "execution_count": 71
        }
      ]
    },
    {
      "cell_type": "code",
      "source": [
        "# Type of the new object\n",
        "type(band)"
      ],
      "metadata": {
        "colab": {
          "base_uri": "https://localhost:8080/"
        },
        "id": "frBU-VTiIiHP",
        "outputId": "251f191f-d5f8-48b1-9b0c-51cbcf946c6b"
      },
      "execution_count": null,
      "outputs": [
        {
          "output_type": "execute_result",
          "data": {
            "text/plain": [
              "osgeo.gdal.Band"
            ]
          },
          "metadata": {},
          "execution_count": 72
        }
      ]
    },
    {
      "cell_type": "code",
      "source": [
        "# Convert gdal band to a numpy array\n",
        "dem_array = band.ReadAsArray()\n",
        "dem_array"
      ],
      "metadata": {
        "colab": {
          "base_uri": "https://localhost:8080/"
        },
        "id": "siyPrLFktS5F",
        "outputId": "7e39fddd-dcd8-4c1b-efb4-b656f12b7a52"
      },
      "execution_count": null,
      "outputs": [
        {
          "output_type": "execute_result",
          "data": {
            "text/plain": [
              "array([[628.1063 , 628.1324 , 628.1666 , ..., 661.4545 , 661.3377 ,\n",
              "        661.22375],\n",
              "       [629.03094, 629.0601 , 629.0032 , ..., 661.54407, 661.4402 ,\n",
              "        661.35315],\n",
              "       [629.7617 , 629.74615, 629.6209 , ..., 661.63464, 661.53687,\n",
              "        661.44434],\n",
              "       ...,\n",
              "       [753.68   , 753.6787 , 753.6319 , ..., 593.5979 , 593.0235 ,\n",
              "        592.5562 ],\n",
              "       [753.76715, 753.7081 , 753.5967 , ..., 593.51965, 592.99066,\n",
              "        592.51587],\n",
              "       [753.834  , 753.6893 , 753.5426 , ..., 593.3797 , 592.8864 ,\n",
              "        592.4038 ]], dtype=float32)"
            ]
          },
          "metadata": {},
          "execution_count": 73
        }
      ]
    },
    {
      "cell_type": "code",
      "source": [
        "# Shape of the array\n",
        "dem_array.shape"
      ],
      "metadata": {
        "colab": {
          "base_uri": "https://localhost:8080/"
        },
        "id": "6I8ZTLx1M1pO",
        "outputId": "88feefc3-5fc3-4c18-a157-0e1b8a81e6b7"
      },
      "execution_count": null,
      "outputs": [
        {
          "output_type": "execute_result",
          "data": {
            "text/plain": [
              "(1062, 1052)"
            ]
          },
          "metadata": {},
          "execution_count": 74
        }
      ]
    },
    {
      "cell_type": "code",
      "source": [
        "# Minimum and maximum values of the array\n",
        "dem_array[0].min(), dem_array[0].max()"
      ],
      "metadata": {
        "colab": {
          "base_uri": "https://localhost:8080/"
        },
        "id": "EOTcUbwU9eyV",
        "outputId": "cb654234-87ae-4d98-86b5-6c05af0112ce"
      },
      "execution_count": null,
      "outputs": [
        {
          "output_type": "execute_result",
          "data": {
            "text/plain": [
              "(534.6667, 665.91125)"
            ]
          },
          "metadata": {},
          "execution_count": 75
        }
      ]
    },
    {
      "cell_type": "code",
      "source": [
        "# Plot the array using matplotlib\n",
        "plt.figure()\n",
        "plt.imshow(dem_array)"
      ],
      "metadata": {
        "colab": {
          "base_uri": "https://localhost:8080/",
          "height": 286
        },
        "id": "elPaOnxgtfwR",
        "outputId": "5b322046-9d47-448f-e9a1-1843e63e1b62"
      },
      "execution_count": null,
      "outputs": [
        {
          "output_type": "execute_result",
          "data": {
            "text/plain": [
              "<matplotlib.image.AxesImage at 0x7f6c5f533580>"
            ]
          },
          "metadata": {},
          "execution_count": 76
        },
        {
          "output_type": "display_data",
          "data": {
            "text/plain": [
              "<Figure size 432x288 with 1 Axes>"
            ],
            "image/png": "[encoded data removed]"
          },
          "metadata": {
            "needs_background": "light"
          }
        }
      ]
    },
    {
      "cell_type": "code",
      "source": [
        "# Mask the pixels with values below the mean of the array\n",
        "binmask = np.where((dem_array > np.mean(dem_array)), 1, 0)\n",
        "plt.figure()\n",
        "plt.imshow(binmask)"
      ],
      "metadata": {
        "id": "mpdHvTK_tuRf",
        "colab": {
          "base_uri": "https://localhost:8080/",
          "height": 286
        },
        "outputId": "833f6be2-436a-461d-9b91-d8b505ba86ca"
      },
      "execution_count": null,
      "outputs": [
        {
          "output_type": "execute_result",
          "data": {
            "text/plain": [
              "<matplotlib.image.AxesImage at 0x7f6c5f111040>"
            ]
          },
          "metadata": {},
          "execution_count": 77
        },
        {
          "output_type": "display_data",
          "data": {
            "text/plain": [
              "<Figure size 432x288 with 1 Axes>"
            ],
            "image/png": "[encoded data removed]"
          },
          "metadata": {
            "needs_background": "light"
          }
        }
      ]
    },
    {
      "cell_type": "code",
      "source": [
        "# Shape of the array after applying the mask\n",
        "binmask.shape"
      ],
      "metadata": {
        "colab": {
          "base_uri": "https://localhost:8080/"
        },
        "id": "KO7Dp5ICDIrd",
        "outputId": "4eaa5925-37d2-432d-b3fb-eb8197e46b27"
      },
      "execution_count": null,
      "outputs": [
        {
          "output_type": "execute_result",
          "data": {
            "text/plain": [
              "(1062, 1052)"
            ]
          },
          "metadata": {},
          "execution_count": 78
        }
      ]
    },
    {
      "cell_type": "markdown",
      "source": [
        "Let's write the mask to a raster files. In order to write an array to a raster, we have to import geotiff raster driver. \n",
        "\n",
        "The array do not have any spatial details. Therefore assign the geotransfrom and projection from the input file to the output mask. Covnvert the array to a raster band and assign nan to the pixels without values. FlushCache() function will write the data processed by gdal, but are buffered to a file properly. Finally the output dataset and the output band should be closed to make sure that the data is written properly to the output tif file."
      ],
      "metadata": {
        "id": "s5gwPXh3OPtz"
      }
    },
    {
      "cell_type": "code",
      "source": [
        "# Import geotiff raster driver and write mask to a tif file\n",
        "driver = gdal.GetDriverByName('GTiff')\n",
        "driver.Register()\n",
        "output_dataset = driver.Create('binmask.tif', xsize= binmask.shape[1],\n",
        "                               ysize= binmask.shape[0],\n",
        "                               bands = 1,\n",
        "                               eType = gdal.GDT_Int16)\n",
        "output_dataset.SetGeoTransform(geo_transform)\n",
        "output_dataset.SetProjection(dem_projection)\n",
        "output_band = output_dataset.GetRasterBand(1)\n",
        "output_band.WriteArray(binmask)\n",
        "output_band.SetNoDataValue(np.nan)\n",
        "output_band.FlushCache()\n",
        "\n",
        "# Close dataset and bands to data to write properly\n",
        "output_dataset = None\n",
        "output_band = None"
      ],
      "metadata": {
        "id": "J807ezvhDb92"
      },
      "execution_count": null,
      "outputs": []
    },
    {
      "cell_type": "code",
      "source": [],
      "metadata": {
        "id": "4bX2uO4fT4sB"
      },
      "execution_count": null,
      "outputs": []
    },
    {
      "cell_type": "markdown",
      "source": [
        "#### **Reference**\n",
        "\n",
        "- [Read and write raster files with GDAL in Python](https://www.youtube.com/watch?v=p_BsFdV_LUk&list=PL4aUQR9L9RFp7kuu38hInDE-9ByueEMES&ab_channel=MakingSenseRemotely)\n",
        "\n",
        "- [USGS ScienceBase-Catalog](https://www.sciencebase.gov/catalog/item/543e6b86e4b0fd76af69cf4c) \n",
        "\n",
        "- [Geotransform Tutorial](https://gdal.org/tutorials/geotransforms_tut.html)\n",
        "\n",
        "- [Choose the right projection](https://learn.arcgis.com/en/projects/choose-the-right-projection/)"
      ],
      "metadata": {
        "id": "v6GLMAkfeEfI"
      }
    },
    {
      "cell_type": "code",
      "source": [],
      "metadata": {
        "id": "JPGSqL05eGte"
      },
      "execution_count": null,
      "outputs": []
    }
  ]
}